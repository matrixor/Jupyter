{
 "cells": [
  {
   "cell_type": "code",
   "execution_count": 1,
   "metadata": {
    "collapsed": true
   },
   "outputs": [],
   "source": [
    "from __future__ import absolute_import\n",
    "from __future__ import division\n",
    "from __future__ import print_function\n",
    "\n",
    "import itertools\n",
    "\n",
    "import pandas as pd\n",
    "import tensorflow as tf\n"
   ]
  },
  {
   "cell_type": "code",
   "execution_count": 2,
   "metadata": {
    "collapsed": true
   },
   "outputs": [],
   "source": [
    "tf.logging.set_verbosity(tf.logging.INFO)"
   ]
  },
  {
   "cell_type": "code",
   "execution_count": 3,
   "metadata": {
    "collapsed": true
   },
   "outputs": [],
   "source": [
    "COLUMNS = [\"crim\", \"zn\", \"indus\", \"nox\", \"rm\", \"age\",\n",
    "           \"dis\", \"tax\", \"ptratio\", \"medv\"]\n",
    "FEATURES = [\"crim\", \"zn\", \"indus\", \"nox\", \"rm\",\n",
    "            \"age\", \"dis\", \"tax\", \"ptratio\"]\n",
    "LABEL = \"medv\"\n",
    "\n",
    "training_set = pd.read_csv(\"boston_train.csv\", skipinitialspace=True,\n",
    "                           skiprows=1, names=COLUMNS)\n",
    "test_set = pd.read_csv(\"boston_test.csv\", skipinitialspace=True,\n",
    "                       skiprows=1, names=COLUMNS)\n",
    "prediction_set = pd.read_csv(\"boston_predict.csv\", skipinitialspace=True,\n",
    "                             skiprows=1, names=COLUMNS)"
   ]
  },
  {
   "cell_type": "code",
   "execution_count": 4,
   "metadata": {
    "collapsed": true
   },
   "outputs": [],
   "source": [
    "feature_cols = [tf.contrib.layers.real_valued_column(k)\n",
    "                  for k in FEATURES]"
   ]
  },
  {
   "cell_type": "code",
   "execution_count": 5,
   "metadata": {
    "collapsed": false
   },
   "outputs": [
    {
     "name": "stdout",
     "output_type": "stream",
     "text": [
      "INFO:tensorflow:Using default config.\n",
      "INFO:tensorflow:Using config: {'_task_id': 0, '_cluster_spec': <tensorflow.python.training.server_lib.ClusterSpec object at 0x0000029EC4879B00>, '_master': '', '_is_chief': True, '_save_checkpoints_secs': 600, '_num_ps_replicas': 0, '_tf_random_seed': None, '_task_type': None, '_keep_checkpoint_max': 5, '_tf_config': gpu_options {\n",
      "  per_process_gpu_memory_fraction: 1\n",
      "}\n",
      ", '_evaluation_master': '', '_save_checkpoints_steps': None, '_save_summary_steps': 100, '_keep_checkpoint_every_n_hours': 10000, '_environment': 'local'}\n"
     ]
    }
   ],
   "source": [
    "regressor = tf.contrib.learn.DNNRegressor(feature_columns=feature_cols,\n",
    "                                          hidden_units=[10, 10],\n",
    "                                          model_dir=\"/tmp/boston_model\")"
   ]
  },
  {
   "cell_type": "code",
   "execution_count": 6,
   "metadata": {
    "collapsed": true
   },
   "outputs": [],
   "source": [
    "def input_fn(data_set):\n",
    "    feature_cols = {k: tf.constant(data_set[k].values)\n",
    "                  for k in FEATURES}\n",
    "    labels = tf.constant(data_set[LABEL].values)\n",
    "    return feature_cols, labels"
   ]
  },
  {
   "cell_type": "code",
   "execution_count": 7,
   "metadata": {
    "collapsed": false
   },
   "outputs": [
    {
     "name": "stdout",
     "output_type": "stream",
     "text": [
      "WARNING:tensorflow:Rank of input Tensor (1) should be the same as output_rank (2) for column. Will attempt to expand dims. It is highly recommended that you resize your input, as this behavior may change.\n",
      "WARNING:tensorflow:Rank of input Tensor (1) should be the same as output_rank (2) for column. Will attempt to expand dims. It is highly recommended that you resize your input, as this behavior may change.\n",
      "WARNING:tensorflow:Rank of input Tensor (1) should be the same as output_rank (2) for column. Will attempt to expand dims. It is highly recommended that you resize your input, as this behavior may change.\n",
      "WARNING:tensorflow:Rank of input Tensor (1) should be the same as output_rank (2) for column. Will attempt to expand dims. It is highly recommended that you resize your input, as this behavior may change.\n",
      "WARNING:tensorflow:Rank of input Tensor (1) should be the same as output_rank (2) for column. Will attempt to expand dims. It is highly recommended that you resize your input, as this behavior may change.\n",
      "WARNING:tensorflow:Rank of input Tensor (1) should be the same as output_rank (2) for column. Will attempt to expand dims. It is highly recommended that you resize your input, as this behavior may change.\n",
      "WARNING:tensorflow:Rank of input Tensor (1) should be the same as output_rank (2) for column. Will attempt to expand dims. It is highly recommended that you resize your input, as this behavior may change.\n",
      "WARNING:tensorflow:Rank of input Tensor (1) should be the same as output_rank (2) for column. Will attempt to expand dims. It is highly recommended that you resize your input, as this behavior may change.\n",
      "WARNING:tensorflow:Rank of input Tensor (1) should be the same as output_rank (2) for column. Will attempt to expand dims. It is highly recommended that you resize your input, as this behavior may change.\n",
      "WARNING:tensorflow:From c:\\users\\matrixor\\appdata\\local\\programs\\python\\python35\\lib\\site-packages\\tensorflow\\contrib\\learn\\python\\learn\\estimators\\head.py:1362: scalar_summary (from tensorflow.python.ops.logging_ops) is deprecated and will be removed after 2016-11-30.\n",
      "Instructions for updating:\n",
      "Please switch to tf.summary.scalar. Note that tf.summary.scalar uses the node name instead of the tag. This means that TensorFlow will automatically de-duplicate summary names based on the scope they are created in. Also, passing a tensor or list of tags to a scalar summary op is no longer supported.\n",
      "INFO:tensorflow:Create CheckpointSaverHook.\n",
      "INFO:tensorflow:Saving checkpoints for 5001 into /tmp/boston_model\\model.ckpt.\n",
      "INFO:tensorflow:loss = 29.8164, step = 5001\n",
      "INFO:tensorflow:global_step/sec: 1215.47\n",
      "INFO:tensorflow:loss = 29.6964, step = 5101\n",
      "INFO:tensorflow:global_step/sec: 1281.19\n",
      "INFO:tensorflow:loss = 29.7209, step = 5201\n",
      "INFO:tensorflow:global_step/sec: 1281.2\n",
      "INFO:tensorflow:loss = 29.5771, step = 5301\n",
      "INFO:tensorflow:global_step/sec: 1332.44\n",
      "INFO:tensorflow:loss = 29.5169, step = 5401\n",
      "INFO:tensorflow:global_step/sec: 1350.44\n",
      "INFO:tensorflow:loss = 29.5401, step = 5501\n",
      "INFO:tensorflow:global_step/sec: 1281.2\n",
      "INFO:tensorflow:loss = 29.5264, step = 5601\n",
      "INFO:tensorflow:global_step/sec: 1350.45\n",
      "INFO:tensorflow:loss = 29.4051, step = 5701\n",
      "INFO:tensorflow:global_step/sec: 1249.16\n",
      "INFO:tensorflow:loss = 29.3747, step = 5801\n",
      "INFO:tensorflow:global_step/sec: 1189.67\n",
      "INFO:tensorflow:loss = 29.3539, step = 5901\n",
      "INFO:tensorflow:global_step/sec: 1204.01\n",
      "INFO:tensorflow:loss = 29.0794, step = 6001\n",
      "INFO:tensorflow:global_step/sec: 1204.02\n",
      "INFO:tensorflow:loss = 29.0506, step = 6101\n",
      "INFO:tensorflow:global_step/sec: 1264.96\n",
      "INFO:tensorflow:loss = 29.0238, step = 6201\n",
      "INFO:tensorflow:global_step/sec: 1281.2\n",
      "INFO:tensorflow:loss = 28.9981, step = 6301\n",
      "INFO:tensorflow:global_step/sec: 1314.92\n",
      "INFO:tensorflow:loss = 28.973, step = 6401\n",
      "INFO:tensorflow:global_step/sec: 1249.17\n",
      "INFO:tensorflow:loss = 28.9491, step = 6501\n",
      "INFO:tensorflow:global_step/sec: 1264.97\n",
      "INFO:tensorflow:loss = 28.9262, step = 6601\n",
      "INFO:tensorflow:global_step/sec: 1148.65\n",
      "INFO:tensorflow:loss = 28.9047, step = 6701\n",
      "INFO:tensorflow:global_step/sec: 1249.18\n",
      "INFO:tensorflow:loss = 28.8848, step = 6801\n",
      "INFO:tensorflow:global_step/sec: 1175.68\n",
      "INFO:tensorflow:loss = 28.8668, step = 6901\n",
      "INFO:tensorflow:global_step/sec: 1314.91\n",
      "INFO:tensorflow:loss = 28.8471, step = 7001\n",
      "INFO:tensorflow:global_step/sec: 1264.98\n",
      "INFO:tensorflow:loss = 28.8229, step = 7101\n",
      "INFO:tensorflow:global_step/sec: 1264.98\n",
      "INFO:tensorflow:loss = 28.8086, step = 7201\n",
      "INFO:tensorflow:global_step/sec: 1297.83\n",
      "INFO:tensorflow:loss = 28.8118, step = 7301\n",
      "INFO:tensorflow:global_step/sec: 1281.18\n",
      "INFO:tensorflow:loss = 28.8337, step = 7401\n",
      "INFO:tensorflow:global_step/sec: 1189.68\n",
      "INFO:tensorflow:loss = 28.8118, step = 7501\n",
      "INFO:tensorflow:global_step/sec: 1264.99\n",
      "INFO:tensorflow:loss = 28.7899, step = 7601\n",
      "INFO:tensorflow:global_step/sec: 1264.97\n",
      "INFO:tensorflow:loss = 28.7693, step = 7701\n",
      "INFO:tensorflow:global_step/sec: 1249.17\n",
      "INFO:tensorflow:loss = 28.7476, step = 7801\n",
      "INFO:tensorflow:global_step/sec: 1218.69\n",
      "INFO:tensorflow:loss = 28.7306, step = 7901\n",
      "INFO:tensorflow:global_step/sec: 1189.64\n",
      "INFO:tensorflow:loss = 28.7057, step = 8001\n",
      "INFO:tensorflow:global_step/sec: 1233.78\n",
      "INFO:tensorflow:loss = 28.6811, step = 8101\n",
      "INFO:tensorflow:global_step/sec: 1233.73\n",
      "INFO:tensorflow:loss = 28.6536, step = 8201\n",
      "INFO:tensorflow:global_step/sec: 1249.17\n",
      "INFO:tensorflow:loss = 28.6067, step = 8301\n",
      "INFO:tensorflow:global_step/sec: 1249.18\n",
      "INFO:tensorflow:loss = 28.5929, step = 8401\n",
      "INFO:tensorflow:global_step/sec: 1281.18\n",
      "INFO:tensorflow:loss = 28.5856, step = 8501\n",
      "INFO:tensorflow:global_step/sec: 1332.46\n",
      "INFO:tensorflow:loss = 28.5648, step = 8601\n",
      "INFO:tensorflow:global_step/sec: 1368.94\n",
      "INFO:tensorflow:loss = 28.5407, step = 8701\n",
      "INFO:tensorflow:global_step/sec: 1189.68\n",
      "INFO:tensorflow:loss = 28.5134, step = 8801\n",
      "INFO:tensorflow:global_step/sec: 1314.9\n",
      "INFO:tensorflow:loss = 28.4928, step = 8901\n",
      "INFO:tensorflow:global_step/sec: 1162.02\n",
      "INFO:tensorflow:loss = 28.4708, step = 9001\n",
      "INFO:tensorflow:global_step/sec: 1249.17\n",
      "INFO:tensorflow:loss = 28.4434, step = 9101\n",
      "INFO:tensorflow:global_step/sec: 1233.72\n",
      "INFO:tensorflow:loss = 28.4171, step = 9201\n",
      "INFO:tensorflow:global_step/sec: 1162.02\n",
      "INFO:tensorflow:loss = 28.3917, step = 9301\n",
      "INFO:tensorflow:global_step/sec: 1162.01\n",
      "INFO:tensorflow:loss = 28.3566, step = 9401\n",
      "INFO:tensorflow:global_step/sec: 1218.7\n",
      "INFO:tensorflow:loss = 28.314, step = 9501\n",
      "INFO:tensorflow:global_step/sec: 1218.7\n",
      "INFO:tensorflow:loss = 28.285, step = 9601\n",
      "INFO:tensorflow:global_step/sec: 1332.43\n",
      "INFO:tensorflow:loss = 28.2624, step = 9701\n",
      "INFO:tensorflow:global_step/sec: 1204.01\n",
      "INFO:tensorflow:loss = 28.2385, step = 9801\n",
      "INFO:tensorflow:global_step/sec: 1204.02\n",
      "INFO:tensorflow:loss = 28.2142, step = 9901\n",
      "INFO:tensorflow:Saving checkpoints for 10000 into /tmp/boston_model\\model.ckpt.\n",
      "INFO:tensorflow:Loss for final step: 28.1923.\n"
     ]
    },
    {
     "data": {
      "text/plain": [
       "DNNRegressor(params={'feature_columns': (_RealValuedColumn(column_name='crim', dimension=1, default_value=None, dtype=tf.float32, normalizer=None), _RealValuedColumn(column_name='zn', dimension=1, default_value=None, dtype=tf.float32, normalizer=None), _RealValuedColumn(column_name='indus', dimension=1, default_value=None, dtype=tf.float32, normalizer=None), _RealValuedColumn(column_name='nox', dimension=1, default_value=None, dtype=tf.float32, normalizer=None), _RealValuedColumn(column_name='rm', dimension=1, default_value=None, dtype=tf.float32, normalizer=None), _RealValuedColumn(column_name='age', dimension=1, default_value=None, dtype=tf.float32, normalizer=None), _RealValuedColumn(column_name='dis', dimension=1, default_value=None, dtype=tf.float32, normalizer=None), _RealValuedColumn(column_name='tax', dimension=1, default_value=None, dtype=tf.float32, normalizer=None), _RealValuedColumn(column_name='ptratio', dimension=1, default_value=None, dtype=tf.float32, normalizer=None)), 'gradient_clip_norm': None, 'optimizer': None, 'dropout': None, 'head': <tensorflow.contrib.learn.python.learn.estimators.head._RegressionHead object at 0x0000029EC4879C50>, 'embedding_lr_multipliers': None, 'activation_fn': <function relu at 0x0000029EC80F9510>, 'hidden_units': [10, 10], 'input_layer_min_slice_size': None})"
      ]
     },
     "execution_count": 7,
     "metadata": {},
     "output_type": "execute_result"
    }
   ],
   "source": [
    "regressor.fit(input_fn=lambda: input_fn(training_set), steps=5000)"
   ]
  },
  {
   "cell_type": "code",
   "execution_count": 8,
   "metadata": {
    "collapsed": false
   },
   "outputs": [
    {
     "name": "stdout",
     "output_type": "stream",
     "text": [
      "WARNING:tensorflow:Rank of input Tensor (1) should be the same as output_rank (2) for column. Will attempt to expand dims. It is highly recommended that you resize your input, as this behavior may change.\n",
      "WARNING:tensorflow:Rank of input Tensor (1) should be the same as output_rank (2) for column. Will attempt to expand dims. It is highly recommended that you resize your input, as this behavior may change.\n",
      "WARNING:tensorflow:Rank of input Tensor (1) should be the same as output_rank (2) for column. Will attempt to expand dims. It is highly recommended that you resize your input, as this behavior may change.\n",
      "WARNING:tensorflow:Rank of input Tensor (1) should be the same as output_rank (2) for column. Will attempt to expand dims. It is highly recommended that you resize your input, as this behavior may change.\n",
      "WARNING:tensorflow:Rank of input Tensor (1) should be the same as output_rank (2) for column. Will attempt to expand dims. It is highly recommended that you resize your input, as this behavior may change.\n",
      "WARNING:tensorflow:Rank of input Tensor (1) should be the same as output_rank (2) for column. Will attempt to expand dims. It is highly recommended that you resize your input, as this behavior may change.\n",
      "WARNING:tensorflow:Rank of input Tensor (1) should be the same as output_rank (2) for column. Will attempt to expand dims. It is highly recommended that you resize your input, as this behavior may change.\n",
      "WARNING:tensorflow:Rank of input Tensor (1) should be the same as output_rank (2) for column. Will attempt to expand dims. It is highly recommended that you resize your input, as this behavior may change.\n",
      "WARNING:tensorflow:Rank of input Tensor (1) should be the same as output_rank (2) for column. Will attempt to expand dims. It is highly recommended that you resize your input, as this behavior may change.\n",
      "WARNING:tensorflow:From c:\\users\\matrixor\\appdata\\local\\programs\\python\\python35\\lib\\site-packages\\tensorflow\\contrib\\learn\\python\\learn\\estimators\\head.py:1362: scalar_summary (from tensorflow.python.ops.logging_ops) is deprecated and will be removed after 2016-11-30.\n",
      "Instructions for updating:\n",
      "Please switch to tf.summary.scalar. Note that tf.summary.scalar uses the node name instead of the tag. This means that TensorFlow will automatically de-duplicate summary names based on the scope they are created in. Also, passing a tensor or list of tags to a scalar summary op is no longer supported.\n",
      "INFO:tensorflow:Starting evaluation at 2017-05-08-01:06:41\n",
      "INFO:tensorflow:Evaluation [1/1]\n",
      "INFO:tensorflow:Finished evaluation at 2017-05-08-01:06:41\n",
      "INFO:tensorflow:Saving dict for global step 10000: global_step = 10000, loss = 13.6297\n",
      "WARNING:tensorflow:Skipping summary for global_step, must be a float or np.float32.\n"
     ]
    }
   ],
   "source": [
    "ev = regressor.evaluate(input_fn=lambda: input_fn(test_set), steps=1)"
   ]
  },
  {
   "cell_type": "code",
   "execution_count": 9,
   "metadata": {
    "collapsed": false
   },
   "outputs": [
    {
     "name": "stdout",
     "output_type": "stream",
     "text": [
      "Loss: 13.629739\n"
     ]
    }
   ],
   "source": [
    "loss_score = ev[\"loss\"]\n",
    "print(\"Loss: {0:f}\".format(loss_score))"
   ]
  },
  {
   "cell_type": "code",
   "execution_count": 10,
   "metadata": {
    "collapsed": false
   },
   "outputs": [
    {
     "name": "stdout",
     "output_type": "stream",
     "text": [
      "WARNING:tensorflow:Rank of input Tensor (1) should be the same as output_rank (2) for column. Will attempt to expand dims. It is highly recommended that you resize your input, as this behavior may change.\n",
      "WARNING:tensorflow:Rank of input Tensor (1) should be the same as output_rank (2) for column. Will attempt to expand dims. It is highly recommended that you resize your input, as this behavior may change.\n",
      "WARNING:tensorflow:Rank of input Tensor (1) should be the same as output_rank (2) for column. Will attempt to expand dims. It is highly recommended that you resize your input, as this behavior may change.\n",
      "WARNING:tensorflow:Rank of input Tensor (1) should be the same as output_rank (2) for column. Will attempt to expand dims. It is highly recommended that you resize your input, as this behavior may change.\n",
      "WARNING:tensorflow:Rank of input Tensor (1) should be the same as output_rank (2) for column. Will attempt to expand dims. It is highly recommended that you resize your input, as this behavior may change.\n",
      "WARNING:tensorflow:Rank of input Tensor (1) should be the same as output_rank (2) for column. Will attempt to expand dims. It is highly recommended that you resize your input, as this behavior may change.\n",
      "WARNING:tensorflow:Rank of input Tensor (1) should be the same as output_rank (2) for column. Will attempt to expand dims. It is highly recommended that you resize your input, as this behavior may change.\n",
      "WARNING:tensorflow:Rank of input Tensor (1) should be the same as output_rank (2) for column. Will attempt to expand dims. It is highly recommended that you resize your input, as this behavior may change.\n",
      "WARNING:tensorflow:Rank of input Tensor (1) should be the same as output_rank (2) for column. Will attempt to expand dims. It is highly recommended that you resize your input, as this behavior may change.\n",
      "Predictions: [32.087582, 17.912066, 22.922274, 34.490669, 15.160352, 19.022882]\n"
     ]
    }
   ],
   "source": [
    "y = regressor.predict(input_fn=lambda: input_fn(prediction_set))\n",
    "# .predict() returns an iterator; convert to a list and print predictions\n",
    "predictions = list(itertools.islice(y, 6))\n",
    "print (\"Predictions: {}\".format(str(predictions)))"
   ]
  },
  {
   "cell_type": "code",
   "execution_count": null,
   "metadata": {
    "collapsed": true
   },
   "outputs": [],
   "source": []
  }
 ],
 "metadata": {
  "kernelspec": {
   "display_name": "Python 3",
   "language": "python",
   "name": "python3"
  },
  "language_info": {
   "codemirror_mode": {
    "name": "ipython",
    "version": 3
   },
   "file_extension": ".py",
   "mimetype": "text/x-python",
   "name": "python",
   "nbconvert_exporter": "python",
   "pygments_lexer": "ipython3",
   "version": "3.5.2"
  }
 },
 "nbformat": 4,
 "nbformat_minor": 2
}
