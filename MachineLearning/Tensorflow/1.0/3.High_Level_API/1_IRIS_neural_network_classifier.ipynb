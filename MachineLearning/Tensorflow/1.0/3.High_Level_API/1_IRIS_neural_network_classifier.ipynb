{
 "cells": [
  {
   "cell_type": "code",
   "execution_count": 17,
   "metadata": {
    "collapsed": true
   },
   "outputs": [],
   "source": [
    "from __future__ import absolute_import\n",
    "from __future__ import division\n",
    "from __future__ import print_function\n",
    "\n",
    "import os\n",
    "import urllib.request\n",
    "\n",
    "import numpy as np\n",
    "import tensorflow as tf"
   ]
  },
  {
   "cell_type": "code",
   "execution_count": 18,
   "metadata": {
    "collapsed": true
   },
   "outputs": [],
   "source": [
    "# Data sets\n",
    "IRIS_TRAINING = \"iris_training.csv\"\n",
    "IRIS_TRAINING_URL = \"http://download.tensorflow.org/data/iris_training.csv\"\n",
    "\n",
    "IRIS_TEST = \"iris_test.csv\"\n",
    "IRIS_TEST_URL = \"http://download.tensorflow.org/data/iris_test.csv\""
   ]
  },
  {
   "cell_type": "code",
   "execution_count": 21,
   "metadata": {
    "collapsed": false
   },
   "outputs": [],
   "source": [
    "# If the training and test sets aren't stored locally, download them.\n",
    "if not os.path.exists(IRIS_TRAINING):\n",
    "    raw = str(urllib.request.urlopen(IRIS_TRAINING_URL).read(),'utf-8') # python 3\n",
    "    with open(IRIS_TRAINING, \"w\") as f:\n",
    "        f.write(raw)\n",
    "\n",
    "if not os.path.exists(IRIS_TEST):\n",
    "    raw = str(urllib.request.urlopen(IRIS_TEST_URL).read(),'utf-8')\n",
    "    with open(IRIS_TEST, \"w\") as f:\n",
    "        f.write(raw)"
   ]
  },
  {
   "cell_type": "code",
   "execution_count": 22,
   "metadata": {
    "collapsed": true
   },
   "outputs": [],
   "source": [
    "# Load datasets.\n",
    "training_set = tf.contrib.learn.datasets.base.load_csv_with_header(\n",
    "      filename=IRIS_TRAINING,\n",
    "      target_dtype=np.int,\n",
    "      features_dtype=np.float32)\n",
    "test_set = tf.contrib.learn.datasets.base.load_csv_with_header(\n",
    "      filename=IRIS_TEST,\n",
    "      target_dtype=np.int,\n",
    "      features_dtype=np.float32)"
   ]
  },
  {
   "cell_type": "code",
   "execution_count": 23,
   "metadata": {
    "collapsed": true
   },
   "outputs": [],
   "source": [
    "# Specify that all features have real-value data\n",
    "feature_columns = [tf.contrib.layers.real_valued_column(\"\", dimension=4)]"
   ]
  },
  {
   "cell_type": "code",
   "execution_count": 24,
   "metadata": {
    "collapsed": false
   },
   "outputs": [
    {
     "name": "stdout",
     "output_type": "stream",
     "text": [
      "INFO:tensorflow:Using default config.\n",
      "INFO:tensorflow:Using config: {'_keep_checkpoint_every_n_hours': 10000, '_num_ps_replicas': 0, '_is_chief': True, '_environment': 'local', '_tf_config': gpu_options {\n",
      "  per_process_gpu_memory_fraction: 1\n",
      "}\n",
      ", '_master': '', '_task_id': 0, '_cluster_spec': <tensorflow.python.training.server_lib.ClusterSpec object at 0x0000021AEA2EA7F0>, '_save_checkpoints_secs': 600, '_evaluation_master': '', '_save_checkpoints_steps': None, '_task_type': None, '_save_summary_steps': 100, '_keep_checkpoint_max': 5, '_tf_random_seed': None}\n"
     ]
    }
   ],
   "source": [
    "# Build 3 layer DNN with 10, 20, 10 units respectively.\n",
    "classifier = tf.contrib.learn.DNNClassifier(feature_columns=feature_columns,\n",
    "                                              hidden_units=[10, 20, 10],\n",
    "                                              n_classes=3,\n",
    "                                              model_dir=\"/tmp/iris_model\")"
   ]
  },
  {
   "cell_type": "code",
   "execution_count": 25,
   "metadata": {
    "collapsed": true
   },
   "outputs": [],
   "source": [
    "# Define the training inputs\n",
    "def get_train_inputs():\n",
    "    x = tf.constant(training_set.data)\n",
    "    y = tf.constant(training_set.target)\n",
    "\n",
    "    return x, y"
   ]
  },
  {
   "cell_type": "code",
   "execution_count": 26,
   "metadata": {
    "collapsed": false
   },
   "outputs": [
    {
     "name": "stdout",
     "output_type": "stream",
     "text": [
      "WARNING:tensorflow:From c:\\users\\matrixor\\appdata\\local\\programs\\python\\python35\\lib\\site-packages\\tensorflow\\contrib\\learn\\python\\learn\\estimators\\head.py:1362: scalar_summary (from tensorflow.python.ops.logging_ops) is deprecated and will be removed after 2016-11-30.\n",
      "Instructions for updating:\n",
      "Please switch to tf.summary.scalar. Note that tf.summary.scalar uses the node name instead of the tag. This means that TensorFlow will automatically de-duplicate summary names based on the scope they are created in. Also, passing a tensor or list of tags to a scalar summary op is no longer supported.\n",
      "INFO:tensorflow:Create CheckpointSaverHook.\n",
      "INFO:tensorflow:Saving checkpoints for 1 into /tmp/iris_model\\model.ckpt.\n",
      "INFO:tensorflow:loss = 1.09723, step = 1\n",
      "INFO:tensorflow:global_step/sec: 1279.94\n",
      "INFO:tensorflow:loss = 0.174579, step = 101\n",
      "INFO:tensorflow:global_step/sec: 1279.94\n",
      "INFO:tensorflow:loss = 0.087889, step = 201\n",
      "INFO:tensorflow:global_step/sec: 1279.93\n",
      "INFO:tensorflow:loss = 0.0692917, step = 301\n",
      "INFO:tensorflow:global_step/sec: 1279.91\n",
      "INFO:tensorflow:loss = 0.0623212, step = 401\n",
      "INFO:tensorflow:global_step/sec: 1279.94\n",
      "INFO:tensorflow:loss = 0.0579588, step = 501\n",
      "INFO:tensorflow:global_step/sec: 1279.93\n",
      "INFO:tensorflow:loss = 0.0551561, step = 601\n",
      "INFO:tensorflow:global_step/sec: 1279.94\n",
      "INFO:tensorflow:loss = 0.0530922, step = 701\n",
      "INFO:tensorflow:global_step/sec: 1279.94\n",
      "INFO:tensorflow:loss = 0.0514744, step = 801\n",
      "INFO:tensorflow:global_step/sec: 1066.61\n",
      "INFO:tensorflow:loss = 0.0501012, step = 901\n",
      "INFO:tensorflow:global_step/sec: 1279.94\n",
      "INFO:tensorflow:loss = 0.048959, step = 1001\n",
      "INFO:tensorflow:global_step/sec: 1279.93\n",
      "INFO:tensorflow:loss = 0.0479571, step = 1101\n",
      "INFO:tensorflow:global_step/sec: 1279.93\n",
      "INFO:tensorflow:loss = 0.0470951, step = 1201\n",
      "INFO:tensorflow:global_step/sec: 1279.94\n",
      "INFO:tensorflow:loss = 0.0462416, step = 1301\n",
      "INFO:tensorflow:global_step/sec: 1279.93\n",
      "INFO:tensorflow:loss = 0.0455568, step = 1401\n",
      "INFO:tensorflow:global_step/sec: 1279.94\n",
      "INFO:tensorflow:loss = 0.0448181, step = 1501\n",
      "INFO:tensorflow:global_step/sec: 1279.92\n",
      "INFO:tensorflow:loss = 0.0442015, step = 1601\n",
      "INFO:tensorflow:global_step/sec: 1279.93\n",
      "INFO:tensorflow:loss = 0.0435533, step = 1701\n",
      "INFO:tensorflow:global_step/sec: 1279.93\n",
      "INFO:tensorflow:loss = 0.0429265, step = 1801\n",
      "INFO:tensorflow:global_step/sec: 1066.62\n",
      "INFO:tensorflow:loss = 0.0423628, step = 1901\n",
      "INFO:tensorflow:Saving checkpoints for 2000 into /tmp/iris_model\\model.ckpt.\n",
      "INFO:tensorflow:Loss for final step: 0.0416444.\n"
     ]
    },
    {
     "data": {
      "text/plain": [
       "DNNClassifier(params={'head': <tensorflow.contrib.learn.python.learn.estimators.head._MultiClassHead object at 0x0000021AEA2EA780>, 'input_layer_min_slice_size': None, 'feature_columns': (_RealValuedColumn(column_name='', dimension=4, default_value=None, dtype=tf.float32, normalizer=None),), 'gradient_clip_norm': None, 'hidden_units': [10, 20, 10], 'activation_fn': <function relu at 0x0000021AE8BFC268>, 'dropout': None, 'optimizer': None, 'embedding_lr_multipliers': None})"
      ]
     },
     "execution_count": 26,
     "metadata": {},
     "output_type": "execute_result"
    }
   ],
   "source": [
    "# Fit model.\n",
    "classifier.fit(input_fn=get_train_inputs, steps=2000)"
   ]
  },
  {
   "cell_type": "code",
   "execution_count": 27,
   "metadata": {
    "collapsed": true
   },
   "outputs": [],
   "source": [
    "# Define the test inputs\n",
    "def get_test_inputs():\n",
    "    x = tf.constant(test_set.data)\n",
    "    y = tf.constant(test_set.target)\n",
    "\n",
    "    return x, y"
   ]
  },
  {
   "cell_type": "code",
   "execution_count": 28,
   "metadata": {
    "collapsed": false
   },
   "outputs": [
    {
     "name": "stdout",
     "output_type": "stream",
     "text": [
      "WARNING:tensorflow:From c:\\users\\matrixor\\appdata\\local\\programs\\python\\python35\\lib\\site-packages\\tensorflow\\contrib\\learn\\python\\learn\\estimators\\head.py:1362: scalar_summary (from tensorflow.python.ops.logging_ops) is deprecated and will be removed after 2016-11-30.\n",
      "Instructions for updating:\n",
      "Please switch to tf.summary.scalar. Note that tf.summary.scalar uses the node name instead of the tag. This means that TensorFlow will automatically de-duplicate summary names based on the scope they are created in. Also, passing a tensor or list of tags to a scalar summary op is no longer supported.\n",
      "INFO:tensorflow:Starting evaluation at 2017-04-30-21:55:59\n",
      "INFO:tensorflow:Evaluation [1/1]\n",
      "INFO:tensorflow:Finished evaluation at 2017-04-30-21:55:59\n",
      "INFO:tensorflow:Saving dict for global step 2000: accuracy = 0.966667, auc = 0.998333, global_step = 2000, loss = 0.0587128\n",
      "WARNING:tensorflow:Skipping summary for global_step, must be a float or np.float32.\n",
      "\n",
      "Test Accuracy: 0.966667\n",
      "\n"
     ]
    }
   ],
   "source": [
    "# Evaluate accuracy.\n",
    "accuracy_score = classifier.evaluate(input_fn=get_test_inputs,\n",
    "                                       steps=1)[\"accuracy\"]\n",
    "print(\"\\nTest Accuracy: {0:f}\\n\".format(accuracy_score))"
   ]
  },
  {
   "cell_type": "code",
   "execution_count": 29,
   "metadata": {
    "collapsed": true
   },
   "outputs": [],
   "source": [
    "# Classify two new flower samples.\n",
    "def new_samples():\n",
    "    return np.array(\n",
    "      [[6.4, 3.2, 4.5, 1.5],\n",
    "       [5.8, 3.1, 5.0, 1.7]], dtype=np.float32)"
   ]
  },
  {
   "cell_type": "code",
   "execution_count": 30,
   "metadata": {
    "collapsed": false
   },
   "outputs": [
    {
     "name": "stdout",
     "output_type": "stream",
     "text": [
      "New Samples, Class Predictions:    [1, 2]\n",
      "\n"
     ]
    }
   ],
   "source": [
    "predictions = list(classifier.predict(input_fn=new_samples))\n",
    "print(\n",
    "      \"New Samples, Class Predictions:    {}\\n\"\n",
    "      .format(predictions))"
   ]
  },
  {
   "cell_type": "code",
   "execution_count": null,
   "metadata": {
    "collapsed": true
   },
   "outputs": [],
   "source": []
  }
 ],
 "metadata": {
  "kernelspec": {
   "display_name": "Python 3",
   "language": "python",
   "name": "python3"
  },
  "language_info": {
   "codemirror_mode": {
    "name": "ipython",
    "version": 3
   },
   "file_extension": ".py",
   "mimetype": "text/x-python",
   "name": "python",
   "nbconvert_exporter": "python",
   "pygments_lexer": "ipython3",
   "version": "3.5.2"
  }
 },
 "nbformat": 4,
 "nbformat_minor": 2
}
