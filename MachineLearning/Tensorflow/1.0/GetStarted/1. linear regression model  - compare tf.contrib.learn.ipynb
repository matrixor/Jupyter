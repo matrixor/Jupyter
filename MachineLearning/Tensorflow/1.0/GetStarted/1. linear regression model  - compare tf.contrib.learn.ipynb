{
 "cells": [
  {
   "cell_type": "markdown",
   "metadata": {},
   "source": [
    "# linear regression model"
   ]
  },
  {
   "cell_type": "code",
   "execution_count": 1,
   "metadata": {
    "collapsed": true
   },
   "outputs": [],
   "source": [
    "import numpy as np\n",
    "import tensorflow as tf"
   ]
  },
  {
   "cell_type": "code",
   "execution_count": 2,
   "metadata": {
    "collapsed": false
   },
   "outputs": [
    {
     "name": "stdout",
     "output_type": "stream",
     "text": [
      "W: [-0.9999969] b: [ 0.99999082] loss: 5.69997e-11\n"
     ]
    }
   ],
   "source": [
    "# Model parameters\n",
    "W = tf.Variable([.3], tf.float32,name=\"W\")\n",
    "b = tf.Variable([-.3], tf.float32,name=\"b\")\n",
    "\n",
    "# Model input and output\n",
    "x = tf.placeholder(tf.float32,name=\"x\")\n",
    "linear_model = W * x + b\n",
    "y = tf.placeholder(tf.float32,name=\"y\")\n",
    "\n",
    "# loss\n",
    "loss = tf.reduce_sum(tf.square(linear_model - y)) # sum of the squares\n",
    "\n",
    "# optimizer\n",
    "optimizer = tf.train.GradientDescentOptimizer(0.01)\n",
    "train = optimizer.minimize(loss)\n",
    "\n",
    "# training data\n",
    "x_train = [1,2,3,4]\n",
    "y_train = [0,-1,-2,-3]\n",
    "\n",
    "# training loop\n",
    "init = tf.global_variables_initializer()\n",
    "sess = tf.Session()\n",
    "sess.run(init) # reset values to wrong\n",
    "\n",
    "for i in range(1000):\n",
    "    sess.run(train, {x:x_train, y:y_train})\n",
    "\n",
    "# evaluate training accuracy\n",
    "curr_W, curr_b, curr_loss  = sess.run([W, b, loss], {x:x_train, y:y_train})\n",
    "print(\"W: %s b: %s loss: %s\"%(curr_W, curr_b, curr_loss))\n"
   ]
  },
  {
   "cell_type": "code",
   "execution_count": 3,
   "metadata": {
    "collapsed": true
   },
   "outputs": [],
   "source": [
    "# this line is for running tensorboard - visulization tool\n",
    "file_writer = tf.summary.FileWriter('/tmp/tensorflow/tensorboard/1.0/Get_Start', sess.graph)"
   ]
  },
  {
   "cell_type": "code",
   "execution_count": 4,
   "metadata": {
    "collapsed": true
   },
   "outputs": [],
   "source": [
    "sess.close()"
   ]
  },
  {
   "cell_type": "markdown",
   "metadata": {},
   "source": [
    "# tf.contrib.learn"
   ]
  },
  {
   "cell_type": "code",
   "execution_count": 6,
   "metadata": {
    "collapsed": false
   },
   "outputs": [
    {
     "name": "stdout",
     "output_type": "stream",
     "text": [
      "INFO:tensorflow:Using default config.\n",
      "INFO:tensorflow:Using config: {'_cluster_spec': <tensorflow.python.training.server_lib.ClusterSpec object at 0x000001AAADAAF358>, '_tf_config': gpu_options {\n",
      "  per_process_gpu_memory_fraction: 1\n",
      "}\n",
      ", '_environment': 'local', '_tf_random_seed': None, '_master': '', '_task_id': 0, '_save_checkpoints_secs': 600, '_keep_checkpoint_max': 5, '_keep_checkpoint_every_n_hours': 10000, '_task_type': None, '_evaluation_master': '', '_save_summary_steps': 100, '_is_chief': True, '_save_checkpoints_steps': None, '_num_ps_replicas': 0}\n",
      "WARNING:tensorflow:Rank of input Tensor (1) should be the same as output_rank (2) for column. Will attempt to expand dims. It is highly recommended that you resize your input, as this behavior may change.\n",
      "WARNING:tensorflow:From c:\\users\\matrixor\\appdata\\local\\programs\\python\\python35\\lib\\site-packages\\tensorflow\\contrib\\learn\\python\\learn\\estimators\\head.py:1362: scalar_summary (from tensorflow.python.ops.logging_ops) is deprecated and will be removed after 2016-11-30.\n",
      "Instructions for updating:\n",
      "Please switch to tf.summary.scalar. Note that tf.summary.scalar uses the node name instead of the tag. This means that TensorFlow will automatically de-duplicate summary names based on the scope they are created in. Also, passing a tensor or list of tags to a scalar summary op is no longer supported.\n",
      "INFO:tensorflow:Create CheckpointSaverHook.\n",
      "INFO:tensorflow:Saving checkpoints for 1 into /tmp/tensorflow/tensorboard/my_model\\model.ckpt.\n",
      "INFO:tensorflow:step = 1, loss = 3.0\n",
      "INFO:tensorflow:global_step/sec: 1279.94\n",
      "INFO:tensorflow:step = 101, loss = 0.0633278\n",
      "INFO:tensorflow:global_step/sec: 1066.61\n",
      "INFO:tensorflow:step = 201, loss = 0.00439129\n",
      "INFO:tensorflow:global_step/sec: 1066.6\n",
      "INFO:tensorflow:step = 301, loss = 0.000658171\n",
      "INFO:tensorflow:global_step/sec: 1279.94\n",
      "INFO:tensorflow:step = 401, loss = 0.000297987\n",
      "INFO:tensorflow:global_step/sec: 1279.95\n",
      "INFO:tensorflow:step = 501, loss = 4.42303e-05\n",
      "INFO:tensorflow:global_step/sec: 1279.91\n",
      "INFO:tensorflow:step = 601, loss = 1.97513e-05\n",
      "INFO:tensorflow:global_step/sec: 1279.95\n",
      "INFO:tensorflow:step = 701, loss = 2.53139e-06\n",
      "INFO:tensorflow:global_step/sec: 1279.94\n",
      "INFO:tensorflow:step = 801, loss = 8.86265e-07\n",
      "INFO:tensorflow:global_step/sec: 2133.18\n",
      "INFO:tensorflow:step = 901, loss = 2.4996e-07\n",
      "INFO:tensorflow:Saving checkpoints for 1000 into /tmp/tensorflow/tensorboard/my_model\\model.ckpt.\n",
      "INFO:tensorflow:Loss for final step: 8.13097e-08.\n",
      "WARNING:tensorflow:Rank of input Tensor (1) should be the same as output_rank (2) for column. Will attempt to expand dims. It is highly recommended that you resize your input, as this behavior may change.\n",
      "WARNING:tensorflow:From c:\\users\\matrixor\\appdata\\local\\programs\\python\\python35\\lib\\site-packages\\tensorflow\\contrib\\learn\\python\\learn\\estimators\\head.py:1362: scalar_summary (from tensorflow.python.ops.logging_ops) is deprecated and will be removed after 2016-11-30.\n",
      "Instructions for updating:\n",
      "Please switch to tf.summary.scalar. Note that tf.summary.scalar uses the node name instead of the tag. This means that TensorFlow will automatically de-duplicate summary names based on the scope they are created in. Also, passing a tensor or list of tags to a scalar summary op is no longer supported.\n",
      "INFO:tensorflow:Starting evaluation at 2017-04-23-16:17:35\n",
      "INFO:tensorflow:Finished evaluation at 2017-04-23-16:17:36\n",
      "INFO:tensorflow:Saving dict for global step 1000: global_step = 1000, loss = 2.77609e-08\n",
      "WARNING:tensorflow:Skipping summary for global_step, must be a float or np.float32.\n"
     ]
    },
    {
     "data": {
      "text/plain": [
       "{'global_step': 1000, 'loss': 2.7760869e-08}"
      ]
     },
     "execution_count": 6,
     "metadata": {},
     "output_type": "execute_result"
    }
   ],
   "source": [
    "# Declare list of features. We only have one real-valued feature. There are many\n",
    "# other types of columns that are more complicated and useful.\n",
    "features = [tf.contrib.layers.real_valued_column(\"x\", dimension=1)]\n",
    "\n",
    "# An estimator is the front end to invoke training (fitting) and evaluation\n",
    "# (inference). There are many predefined types like linear regression,\n",
    "# logistic regression, linear classification, logistic classification, and\n",
    "# many neural network classifiers and regressors. The following code\n",
    "# provides an estimator that does linear regression.\n",
    "estimator = tf.contrib.learn.LinearRegressor(feature_columns=features,model_dir=\"/tmp/tensorflow/tensorboard/my_model\")\n",
    "\n",
    "# TensorFlow provides many helper methods to read and set up data sets.\n",
    "# Here we use `numpy_input_fn`. We have to tell the function how many batches\n",
    "# of data (num_epochs) we want and how big each batch should be.\n",
    "x = np.array([1., 2., 3., 4.])\n",
    "y = np.array([0., -1., -2., -3.])\n",
    "input_fn = tf.contrib.learn.io.numpy_input_fn({\"x\":x}, y, batch_size=4,\n",
    "                                              num_epochs=1000)\n",
    "\n",
    "# We can invoke 1000 training steps by invoking the `fit` method and passing the\n",
    "# training data set.\n",
    "estimator.fit(input_fn=input_fn, steps=1000)\n",
    "\n",
    "# Here we evaluate how well our model did. In a real example, we would want\n",
    "# to use a separate validation and testing data set to avoid overfitting.\n",
    "estimator.evaluate(input_fn=input_fn)\n"
   ]
  },
  {
   "cell_type": "markdown",
   "metadata": {},
   "source": [
    "# tf.contrib.learn - a custom model"
   ]
  },
  {
   "cell_type": "code",
   "execution_count": 5,
   "metadata": {
    "collapsed": false
   },
   "outputs": [
    {
     "name": "stdout",
     "output_type": "stream",
     "text": [
      "WARNING:tensorflow:Using temporary folder as model directory: C:\\Users\\Matrixor\\AppData\\Local\\Temp\\tmp82lg8xto\n",
      "INFO:tensorflow:Using default config.\n",
      "INFO:tensorflow:Using config: {'_cluster_spec': <tensorflow.python.training.server_lib.ClusterSpec object at 0x000001AAAEECD358>, '_tf_config': gpu_options {\n",
      "  per_process_gpu_memory_fraction: 1\n",
      "}\n",
      ", '_environment': 'local', '_tf_random_seed': None, '_master': '', '_task_id': 0, '_save_checkpoints_secs': 600, '_keep_checkpoint_max': 5, '_keep_checkpoint_every_n_hours': 10000, '_task_type': None, '_evaluation_master': '', '_save_summary_steps': 100, '_is_chief': True, '_save_checkpoints_steps': None, '_num_ps_replicas': 0}\n",
      "INFO:tensorflow:Create CheckpointSaverHook.\n",
      "INFO:tensorflow:Saving checkpoints for 1 into C:\\Users\\Matrixor\\AppData\\Local\\Temp\\tmp82lg8xto\\model.ckpt.\n",
      "INFO:tensorflow:step = 1, loss = 4.38880129216\n",
      "INFO:tensorflow:global_step/sec: 1066.66\n",
      "INFO:tensorflow:step = 101, loss = 0.0125903271171\n",
      "INFO:tensorflow:global_step/sec: 1279.94\n",
      "INFO:tensorflow:step = 201, loss = 0.00306133011795\n",
      "INFO:tensorflow:global_step/sec: 1066.62\n",
      "INFO:tensorflow:step = 301, loss = 6.6008000933e-05\n",
      "INFO:tensorflow:global_step/sec: 1279.94\n",
      "INFO:tensorflow:step = 401, loss = 1.74141553202e-05\n",
      "INFO:tensorflow:global_step/sec: 1279.92\n",
      "INFO:tensorflow:step = 501, loss = 1.06734415862e-06\n",
      "INFO:tensorflow:global_step/sec: 1279.94\n",
      "INFO:tensorflow:step = 601, loss = 3.70453145786e-08\n",
      "INFO:tensorflow:global_step/sec: 1279.93\n",
      "INFO:tensorflow:step = 701, loss = 6.75832328672e-09\n",
      "INFO:tensorflow:global_step/sec: 1599.93\n",
      "INFO:tensorflow:step = 801, loss = 1.78737004022e-09\n",
      "INFO:tensorflow:global_step/sec: 1599.93\n",
      "INFO:tensorflow:step = 901, loss = 1.23459007205e-10\n",
      "INFO:tensorflow:Saving checkpoints for 1000 into C:\\Users\\Matrixor\\AppData\\Local\\Temp\\tmp82lg8xto\\model.ckpt.\n",
      "INFO:tensorflow:Loss for final step: 2.48670918773e-12.\n",
      "INFO:tensorflow:Starting evaluation at 2017-04-23-16:12:50\n",
      "INFO:tensorflow:Evaluation [1/10]\n",
      "INFO:tensorflow:Evaluation [2/10]\n",
      "INFO:tensorflow:Evaluation [3/10]\n",
      "INFO:tensorflow:Evaluation [4/10]\n",
      "INFO:tensorflow:Evaluation [5/10]\n",
      "INFO:tensorflow:Evaluation [6/10]\n",
      "INFO:tensorflow:Evaluation [7/10]\n",
      "INFO:tensorflow:Evaluation [8/10]\n",
      "INFO:tensorflow:Evaluation [9/10]\n",
      "INFO:tensorflow:Evaluation [10/10]\n",
      "INFO:tensorflow:Finished evaluation at 2017-04-23-16:12:50\n",
      "INFO:tensorflow:Saving dict for global step 1000: global_step = 1000, loss = 7.51007e-12\n",
      "WARNING:tensorflow:Skipping summary for global_step, must be a float or np.float32.\n",
      "{'global_step': 1000, 'loss': 7.5100681e-12}\n"
     ]
    }
   ],
   "source": [
    "# Declare list of features, we only have one real-valued feature\n",
    "def model(features, labels, mode):\n",
    "    # Build a linear model and predict values\n",
    "    W = tf.get_variable(\"W\", [1], dtype=tf.float64)\n",
    "    b = tf.get_variable(\"b\", [1], dtype=tf.float64)\n",
    "    y = W*features['x'] + b\n",
    "    # Loss sub-graph\n",
    "    loss = tf.reduce_sum(tf.square(y - labels))\n",
    "    # Training sub-graph\n",
    "    global_step = tf.train.get_global_step()\n",
    "    optimizer = tf.train.GradientDescentOptimizer(0.01)\n",
    "    train = tf.group(optimizer.minimize(loss),\n",
    "                   tf.assign_add(global_step, 1))\n",
    "    # ModelFnOps connects subgraphs we built to the\n",
    "    # appropriate functionality.\n",
    "    return tf.contrib.learn.ModelFnOps(\n",
    "        mode=mode, predictions=y,\n",
    "        loss= loss,\n",
    "        train_op=train)\n",
    "\n",
    "estimator = tf.contrib.learn.Estimator(model_fn=model)\n",
    "\n",
    "# define our data set\n",
    "x=np.array([1., 2., 3., 4.])\n",
    "y=np.array([0., -1., -2., -3.])\n",
    "input_fn = tf.contrib.learn.io.numpy_input_fn({\"x\": x}, y, 4, num_epochs=1000)\n",
    "\n",
    "# train\n",
    "estimator.fit(input_fn=input_fn, steps=1000)\n",
    "\n",
    "# evaluate our model\n",
    "print(estimator.evaluate(input_fn=input_fn, steps=10))\n"
   ]
  },
  {
   "cell_type": "code",
   "execution_count": null,
   "metadata": {
    "collapsed": true
   },
   "outputs": [],
   "source": []
  }
 ],
 "metadata": {
  "kernelspec": {
   "display_name": "Python 3",
   "language": "python",
   "name": "python3"
  },
  "language_info": {
   "codemirror_mode": {
    "name": "ipython",
    "version": 3
   },
   "file_extension": ".py",
   "mimetype": "text/x-python",
   "name": "python",
   "nbconvert_exporter": "python",
   "pygments_lexer": "ipython3",
   "version": "3.5.2"
  }
 },
 "nbformat": 4,
 "nbformat_minor": 2
}
