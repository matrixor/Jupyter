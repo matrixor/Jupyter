{
 "cells": [
  {
   "cell_type": "code",
   "execution_count": 1,
   "metadata": {
    "collapsed": false
   },
   "outputs": [
    {
     "name": "stdout",
     "output_type": "stream",
     "text": [
      "<class 'pandas.core.frame.DataFrame'>\n",
      "RangeIndex: 891 entries, 0 to 890\n",
      "Data columns (total 12 columns):\n",
      "PassengerId    891 non-null int64\n",
      "Survived       891 non-null int64\n",
      "Pclass         891 non-null int64\n",
      "Name           891 non-null object\n",
      "Sex            891 non-null object\n",
      "Age            714 non-null float64\n",
      "SibSp          891 non-null int64\n",
      "Parch          891 non-null int64\n",
      "Ticket         891 non-null object\n",
      "Fare           891 non-null float64\n",
      "Cabin          204 non-null object\n",
      "Embarked       889 non-null object\n",
      "dtypes: float64(2), int64(5), object(5)\n",
      "memory usage: 83.6+ KB\n",
      "None\n"
     ]
    }
   ],
   "source": [
    "import os\n",
    "import numpy as np\n",
    "import pandas as pd\n",
    "import tensorflow as tf\n",
    "\n",
    "# read data from file\n",
    "data = pd.read_csv('data/train.csv')\n",
    "print(data.info())"
   ]
  },
  {
   "cell_type": "code",
   "execution_count": 3,
   "metadata": {
    "collapsed": false
   },
   "outputs": [
    {
     "name": "stdout",
     "output_type": "stream",
     "text": [
      "     Deceased  Survived\n",
      "0           1         0\n",
      "1           0         1\n",
      "2           0         1\n",
      "3           0         1\n",
      "4           1         0\n",
      "5           1         0\n",
      "6           1         0\n",
      "7           1         0\n",
      "8           0         1\n",
      "9           0         1\n",
      "10          0         1\n",
      "11          0         1\n",
      "12          1         0\n",
      "13          1         0\n",
      "14          1         0\n",
      "15          0         1\n",
      "16          1         0\n",
      "17          0         1\n",
      "18          1         0\n",
      "19          0         1\n",
      "20          1         0\n",
      "21          0         1\n",
      "22          0         1\n",
      "23          0         1\n",
      "24          1         0\n",
      "25          0         1\n",
      "26          1         0\n",
      "27          1         0\n",
      "28          0         1\n",
      "29          1         0\n",
      "..        ...       ...\n",
      "861         1         0\n",
      "862         0         1\n",
      "863         1         0\n",
      "864         1         0\n",
      "865         0         1\n",
      "866         0         1\n",
      "867         1         0\n",
      "868         1         0\n",
      "869         0         1\n",
      "870         1         0\n",
      "871         0         1\n",
      "872         1         0\n",
      "873         1         0\n",
      "874         0         1\n",
      "875         0         1\n",
      "876         1         0\n",
      "877         1         0\n",
      "878         1         0\n",
      "879         0         1\n",
      "880         0         1\n",
      "881         1         0\n",
      "882         1         0\n",
      "883         1         0\n",
      "884         1         0\n",
      "885         1         0\n",
      "886         1         0\n",
      "887         0         1\n",
      "888         1         0\n",
      "889         0         1\n",
      "890         1         0\n",
      "\n",
      "[891 rows x 2 columns]\n"
     ]
    }
   ],
   "source": [
    "# fill nan values with 0\n",
    "data = data.fillna(0)\n",
    "# convert ['male', 'female'] values of Sex to [1, 0]\n",
    "data['Sex'] = data['Sex'].apply(lambda s: 1 if s == 'male' else 0)\n",
    "# 'Survived' is the label of one class,\n",
    "# add 'Deceased' as the other class\n",
    "data['Deceased'] = data['Survived'].apply(lambda s: 1 - s)\n",
    "\n",
    "# select features and labels for training\n",
    "dataset_X = data[['Sex', 'Age', 'Pclass', 'SibSp', 'Parch', 'Fare']]\n",
    "dataset_Y = data[['Deceased', 'Survived']]\n",
    "\n",
    "#print(dataset_X)\n",
    "print(dataset_Y)"
   ]
  },
  {
   "cell_type": "code",
   "execution_count": null,
   "metadata": {
    "collapsed": false
   },
   "outputs": [],
   "source": [
    "dataset_X.head(3)"
   ]
  },
  {
   "cell_type": "code",
   "execution_count": null,
   "metadata": {
    "collapsed": true
   },
   "outputs": [],
   "source": [
    "from sklearn.model_selection import train_test_split\n",
    "\n",
    "# split training data and validation set data\n",
    "X_train, X_val, y_train, y_val = train_test_split(dataset_X.as_matrix(), dataset_Y.as_matrix(),\n",
    "                                                  test_size=0.2,\n",
    "                                                  random_state=42)"
   ]
  }
 ],
 "metadata": {
  "kernelspec": {
   "display_name": "Python 3",
   "language": "python",
   "name": "python3"
  },
  "language_info": {
   "codemirror_mode": {
    "name": "ipython",
    "version": 3
   },
   "file_extension": ".py",
   "mimetype": "text/x-python",
   "name": "python",
   "nbconvert_exporter": "python",
   "pygments_lexer": "ipython3",
   "version": "3.5.2"
  }
 },
 "nbformat": 4,
 "nbformat_minor": 2
}
